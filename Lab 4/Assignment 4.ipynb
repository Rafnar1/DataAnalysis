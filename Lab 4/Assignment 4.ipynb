{
 "cells": [
  {
   "cell_type": "code",
   "execution_count": 1,
   "id": "f907e0ac",
   "metadata": {},
   "outputs": [],
   "source": [
    "import pandas as pd\n",
    "import matplotlib.pyplot as plt\n",
    "import seaborn as sns"
   ]
  },
  {
   "cell_type": "code",
   "execution_count": 2,
   "id": "5cb2eef8",
   "metadata": {},
   "outputs": [
    {
     "data": {
      "text/html": [
       "<div>\n",
       "<style scoped>\n",
       "    .dataframe tbody tr th:only-of-type {\n",
       "        vertical-align: middle;\n",
       "    }\n",
       "\n",
       "    .dataframe tbody tr th {\n",
       "        vertical-align: top;\n",
       "    }\n",
       "\n",
       "    .dataframe thead th {\n",
       "        text-align: right;\n",
       "    }\n",
       "</style>\n",
       "<table border=\"1\" class=\"dataframe\">\n",
       "  <thead>\n",
       "    <tr style=\"text-align: right;\">\n",
       "      <th></th>\n",
       "      <th>sepal length</th>\n",
       "      <th>sepal width</th>\n",
       "      <th>petal length</th>\n",
       "      <th>petal width</th>\n",
       "      <th>species</th>\n",
       "    </tr>\n",
       "  </thead>\n",
       "  <tbody>\n",
       "    <tr>\n",
       "      <th>0</th>\n",
       "      <td>5.1</td>\n",
       "      <td>3.5</td>\n",
       "      <td>1.4</td>\n",
       "      <td>0.2</td>\n",
       "      <td>Iris-setosa</td>\n",
       "    </tr>\n",
       "    <tr>\n",
       "      <th>1</th>\n",
       "      <td>4.9</td>\n",
       "      <td>3.0</td>\n",
       "      <td>1.4</td>\n",
       "      <td>0.2</td>\n",
       "      <td>Iris-setosa</td>\n",
       "    </tr>\n",
       "    <tr>\n",
       "      <th>2</th>\n",
       "      <td>4.7</td>\n",
       "      <td>3.2</td>\n",
       "      <td>1.3</td>\n",
       "      <td>0.2</td>\n",
       "      <td>Iris-setosa</td>\n",
       "    </tr>\n",
       "    <tr>\n",
       "      <th>3</th>\n",
       "      <td>4.6</td>\n",
       "      <td>3.1</td>\n",
       "      <td>1.5</td>\n",
       "      <td>0.2</td>\n",
       "      <td>Iris-setosa</td>\n",
       "    </tr>\n",
       "    <tr>\n",
       "      <th>4</th>\n",
       "      <td>5.0</td>\n",
       "      <td>3.6</td>\n",
       "      <td>1.4</td>\n",
       "      <td>0.2</td>\n",
       "      <td>Iris-setosa</td>\n",
       "    </tr>\n",
       "    <tr>\n",
       "      <th>...</th>\n",
       "      <td>...</td>\n",
       "      <td>...</td>\n",
       "      <td>...</td>\n",
       "      <td>...</td>\n",
       "      <td>...</td>\n",
       "    </tr>\n",
       "    <tr>\n",
       "      <th>145</th>\n",
       "      <td>6.7</td>\n",
       "      <td>3.0</td>\n",
       "      <td>5.2</td>\n",
       "      <td>2.3</td>\n",
       "      <td>Iris-virginica</td>\n",
       "    </tr>\n",
       "    <tr>\n",
       "      <th>146</th>\n",
       "      <td>6.3</td>\n",
       "      <td>2.5</td>\n",
       "      <td>5.0</td>\n",
       "      <td>1.9</td>\n",
       "      <td>Iris-virginica</td>\n",
       "    </tr>\n",
       "    <tr>\n",
       "      <th>147</th>\n",
       "      <td>6.5</td>\n",
       "      <td>3.0</td>\n",
       "      <td>5.2</td>\n",
       "      <td>2.0</td>\n",
       "      <td>Iris-virginica</td>\n",
       "    </tr>\n",
       "    <tr>\n",
       "      <th>148</th>\n",
       "      <td>6.2</td>\n",
       "      <td>3.4</td>\n",
       "      <td>5.4</td>\n",
       "      <td>2.3</td>\n",
       "      <td>Iris-virginica</td>\n",
       "    </tr>\n",
       "    <tr>\n",
       "      <th>149</th>\n",
       "      <td>5.9</td>\n",
       "      <td>3.0</td>\n",
       "      <td>5.1</td>\n",
       "      <td>1.8</td>\n",
       "      <td>Iris-virginica</td>\n",
       "    </tr>\n",
       "  </tbody>\n",
       "</table>\n",
       "<p>150 rows × 5 columns</p>\n",
       "</div>"
      ],
      "text/plain": [
       "     sepal length  sepal width  petal length  petal width         species\n",
       "0             5.1          3.5           1.4          0.2     Iris-setosa\n",
       "1             4.9          3.0           1.4          0.2     Iris-setosa\n",
       "2             4.7          3.2           1.3          0.2     Iris-setosa\n",
       "3             4.6          3.1           1.5          0.2     Iris-setosa\n",
       "4             5.0          3.6           1.4          0.2     Iris-setosa\n",
       "..            ...          ...           ...          ...             ...\n",
       "145           6.7          3.0           5.2          2.3  Iris-virginica\n",
       "146           6.3          2.5           5.0          1.9  Iris-virginica\n",
       "147           6.5          3.0           5.2          2.0  Iris-virginica\n",
       "148           6.2          3.4           5.4          2.3  Iris-virginica\n",
       "149           5.9          3.0           5.1          1.8  Iris-virginica\n",
       "\n",
       "[150 rows x 5 columns]"
      ]
     },
     "execution_count": 2,
     "metadata": {},
     "output_type": "execute_result"
    }
   ],
   "source": [
    "column_names = ['sepal length', 'sepal width', 'petal length', 'petal width', 'species']\n",
    "df = pd.read_csv('iris.data', header = None, names=column_names)\n",
    "df"
   ]
  },
  {
   "cell_type": "markdown",
   "id": "e0238c0b",
   "metadata": {},
   "source": [
    "# 1 question"
   ]
  },
  {
   "cell_type": "code",
   "execution_count": 3,
   "id": "89387969",
   "metadata": {},
   "outputs": [
    {
     "name": "stdout",
     "output_type": "stream",
     "text": [
      "Variance:\n",
      "species\n",
      "Iris-setosa        0.124249\n",
      "Iris-versicolor    0.266433\n",
      "Iris-virginica     0.404343\n",
      "Name: sepal length, dtype: float64\n",
      "\n",
      "Standard Deviation:\n",
      "species\n",
      "Iris-setosa        0.352490\n",
      "Iris-versicolor    0.516171\n",
      "Iris-virginica     0.635880\n",
      "Name: sepal length, dtype: float64\n"
     ]
    }
   ],
   "source": [
    "variance = df.groupby(\"species\")[\"sepal length\"].var()\n",
    "std = df.groupby(\"species\")[\"sepal length\"].std()\n",
    "\n",
    "print(\"Variance:\")\n",
    "print(variance)\n",
    "\n",
    "print(\"\\nStandard Deviation:\")\n",
    "print(std)"
   ]
  },
  {
   "cell_type": "markdown",
   "id": "2cf24518",
   "metadata": {},
   "source": [
    "# 2 question"
   ]
  },
  {
   "cell_type": "code",
   "execution_count": 14,
   "id": "c0399ad1",
   "metadata": {},
   "outputs": [
    {
     "data": {
      "image/png": "[encoded data removed]",
      "text/plain": [
       "<Figure size 640x480 with 1 Axes>"
      ]
     },
     "metadata": {},
     "output_type": "display_data"
    }
   ],
   "source": [
    "setosa_data = df[df['species'] == 'Iris-setosa']['petal width']\n",
    "\n",
    "sns.histplot(setosa_data, kde=True)\n",
    "plt.title('Histogram of Petal Width for Iris Setosa')\n",
    "plt.xlabel('Petal Width')\n",
    "plt.ylabel('Frequency')\n",
    "\n",
    "plt.show()"
   ]
  },
  {
   "cell_type": "markdown",
   "id": "c6e0c165",
   "metadata": {},
   "source": [
    "# 3 question"
   ]
  },
  {
   "cell_type": "code",
   "execution_count": 5,
   "id": "8c8793db",
   "metadata": {},
   "outputs": [
    {
     "name": "stdout",
     "output_type": "stream",
     "text": [
      "Mode of Sepal Width: 3.0\n",
      "unimodal.\n"
     ]
    }
   ],
   "source": [
    "from scipy.stats import mode\n",
    "\n",
    "sepal_width_data = df['sepal width']\n",
    "\n",
    "mode_result = mode(sepal_width_data, keepdims=True)\n",
    "\n",
    "print(f\"Mode of Sepal Width: {mode_result.mode[0]}\")\n",
    "\n",
    "if len(mode_result.count) > 1:\n",
    "    print(\"multimodal.\")\n",
    "else:\n",
    "    print(\"unimodal.\")"
   ]
  },
  {
   "cell_type": "markdown",
   "id": "74dd89d9",
   "metadata": {},
   "source": [
    "# 4 question"
   ]
  },
  {
   "cell_type": "code",
   "execution_count": 6,
   "id": "57ab0264",
   "metadata": {},
   "outputs": [
    {
     "name": "stdout",
     "output_type": "stream",
     "text": [
      "Iris Setosa Mean: 1.464 ,Standard Deviation: 0.1735111594364455\n",
      "Iris Versicolor Mean: 4.26 ,Standard Deviation: 0.46991097723995806\n",
      "Iris Virginica Mean: 5.5520000000000005 ,Standard Deviation: 0.5518946956639835\n"
     ]
    }
   ],
   "source": [
    "virginica = df[df['species'] == 'Iris-virginica']['petal length']\n",
    "setosa = df[df['species'] == 'Iris-setosa']['petal length']\n",
    "versicolor = df[df['species'] == 'Iris-versicolor']['petal length']\n",
    "\n",
    "setosa_mean = setosa.mean()\n",
    "setosa_std = setosa.std()\n",
    "\n",
    "versicolor_mean = versicolor.mean()\n",
    "versicolor_std = versicolor.std()\n",
    "\n",
    "virginica_mean = virginica.mean()\n",
    "virginica_std = virginica.std()\n",
    "\n",
    "print(\"Iris Setosa Mean:\", setosa_mean, \",Standard Deviation:\", setosa_std)\n",
    "print(\"Iris Versicolor Mean:\", versicolor_mean, \",Standard Deviation:\", versicolor_std)\n",
    "print(\"Iris Virginica Mean:\", virginica_mean, \",Standard Deviation:\", virginica_std)"
   ]
  },
  {
   "cell_type": "markdown",
   "id": "ebcd1358",
   "metadata": {},
   "source": [
    "# 5 question "
   ]
  },
  {
   "cell_type": "code",
   "execution_count": 7,
   "id": "e9478d68",
   "metadata": {},
   "outputs": [
    {
     "name": "stdout",
     "output_type": "stream",
     "text": [
      "Median sepal length for Iris Setosa: 5.0\n",
      "Mean sepal length for Iris Setosa: 5.006\n"
     ]
    }
   ],
   "source": [
    "setosa_sepal_length = df[df['species'] == 'Iris-setosa']['sepal length']\n",
    "\n",
    "median_setosa_sepal_length = setosa_sepal_length.median()\n",
    "mean_setosa_sepal_length = setosa_sepal_length.mean()\n",
    "\n",
    "print(f\"Median sepal length for Iris Setosa: {median_setosa_sepal_length}\")\n",
    "print(f\"Mean sepal length for Iris Setosa: {mean_setosa_sepal_length}\")"
   ]
  },
  {
   "cell_type": "markdown",
   "id": "12b34e1f",
   "metadata": {},
   "source": [
    "# 6 question"
   ]
  },
  {
   "cell_type": "code",
   "execution_count": 8,
   "id": "dbf924dc",
   "metadata": {},
   "outputs": [
    {
     "name": "stdout",
     "output_type": "stream",
     "text": [
      "0.09999999999999998\n",
      "0.30000000000000004\n",
      "0.4999999999999998\n"
     ]
    }
   ],
   "source": [
    "Q1_Setosa = df[df['species'] == 'Iris-setosa']['petal width'].quantile(0.25)\n",
    "Q3_Setosa = df[df['species'] == 'Iris-setosa']['petal width'].quantile(0.75)\n",
    "iqr1 = Q3_Setosa - Q1_Setosa\n",
    "print(iqr1)\n",
    "\n",
    "Q1_versicolor = df[df['species'] == 'Iris-versicolor']['petal width'].quantile(0.25)\n",
    "Q3_versicolor = df[df['species'] == 'Iris-versicolor']['petal width'].quantile(0.75)\n",
    "iqr2 = Q3_versicolor - Q1_versicolor\n",
    "print(iqr2)\n",
    "\n",
    "\n",
    "Q1_virginica = df[df['species'] == 'Iris-virginica']['petal width'].quantile(0.25)\n",
    "Q3_virginica = df[df['species'] == 'Iris-virginica']['petal width'].quantile(0.75)\n",
    "iqr3 = Q3_virginica - Q1_virginica\n",
    "print(iqr3)"
   ]
  },
  {
   "cell_type": "markdown",
   "id": "7942990c",
   "metadata": {},
   "source": [
    "# 7 question"
   ]
  },
  {
   "cell_type": "code",
   "execution_count": 9,
   "id": "a77dcca6",
   "metadata": {},
   "outputs": [
    {
     "name": "stdout",
     "output_type": "stream",
     "text": [
      "Mean instances where sepal width is less than 3 cm < 3 cm: 5.9526315789473685\n",
      "Standard deviation instances where sepal width is less than 3 cm: 0.6766791978789547\n",
      "\n",
      "Overall mean sepal length: 5.843333333333334\n",
      "Overall standard deviation of sepal length: 0.8280661279778629\n"
     ]
    }
   ],
   "source": [
    "subset_data = df[df['sepal width'] < 3]\n",
    "\n",
    "subset_mean = subset_data['sepal length'].mean()\n",
    "subset_std = subset_data['sepal length'].std()\n",
    "\n",
    "overall_mean = df['sepal length'].mean()\n",
    "overall_std = df['sepal length'].std()\n",
    "\n",
    "print(f\"Mean instances where sepal width is less than 3 cm < 3 cm: {subset_mean}\")\n",
    "print(f\"Standard deviation instances where sepal width is less than 3 cm: {subset_std}\")\n",
    "\n",
    "print(f\"\\nOverall mean sepal length: {overall_mean}\")\n",
    "print(f\"Overall standard deviation of sepal length: {overall_std}\")"
   ]
  },
  {
   "cell_type": "markdown",
   "id": "2356b20f",
   "metadata": {},
   "source": [
    "# 8 question"
   ]
  },
  {
   "cell_type": "code",
   "execution_count": 10,
   "id": "337a837f",
   "metadata": {},
   "outputs": [
    {
     "name": "stdout",
     "output_type": "stream",
     "text": [
      "Probability of Iris Versicolour given sepal width between 2.5 and 3.0 cm: 45.83333333333333%\n"
     ]
    }
   ],
   "source": [
    "subset_data = df[(df['sepal width'] >= 2.5) & (df['sepal width'] <= 3.0)]\n",
    "\n",
    "versicolour_probability = len(subset_data[subset_data['species'] == 'Iris-versicolor']) / len(subset_data) * 100\n",
    "\n",
    "print(f\"Probability of Iris Versicolour given sepal width between 2.5 and 3.0 cm: {versicolour_probability}%\")"
   ]
  },
  {
   "cell_type": "markdown",
   "id": "1ec50c86",
   "metadata": {},
   "source": [
    "# 9 question"
   ]
  },
  {
   "cell_type": "code",
   "execution_count": 18,
   "id": "25e4d7c5",
   "metadata": {},
   "outputs": [
    {
     "data": {
      "text/html": [
       "<div>\n",
       "<style scoped>\n",
       "    .dataframe tbody tr th:only-of-type {\n",
       "        vertical-align: middle;\n",
       "    }\n",
       "\n",
       "    .dataframe tbody tr th {\n",
       "        vertical-align: top;\n",
       "    }\n",
       "\n",
       "    .dataframe thead th {\n",
       "        text-align: right;\n",
       "    }\n",
       "</style>\n",
       "<table border=\"1\" class=\"dataframe\">\n",
       "  <thead>\n",
       "    <tr style=\"text-align: right;\">\n",
       "      <th></th>\n",
       "      <th>0.1</th>\n",
       "      <th>0.9</th>\n",
       "      <th>range</th>\n",
       "    </tr>\n",
       "    <tr>\n",
       "      <th>species</th>\n",
       "      <th></th>\n",
       "      <th></th>\n",
       "      <th></th>\n",
       "    </tr>\n",
       "  </thead>\n",
       "  <tbody>\n",
       "    <tr>\n",
       "      <th>Iris-setosa</th>\n",
       "      <td>1.30</td>\n",
       "      <td>1.70</td>\n",
       "      <td>0.40</td>\n",
       "    </tr>\n",
       "    <tr>\n",
       "      <th>Iris-versicolor</th>\n",
       "      <td>3.59</td>\n",
       "      <td>4.80</td>\n",
       "      <td>1.21</td>\n",
       "    </tr>\n",
       "    <tr>\n",
       "      <th>Iris-virginica</th>\n",
       "      <td>4.90</td>\n",
       "      <td>6.31</td>\n",
       "      <td>1.41</td>\n",
       "    </tr>\n",
       "  </tbody>\n",
       "</table>\n",
       "</div>"
      ],
      "text/plain": [
       "                  0.1   0.9  range\n",
       "species                           \n",
       "Iris-setosa      1.30  1.70   0.40\n",
       "Iris-versicolor  3.59  4.80   1.21\n",
       "Iris-virginica   4.90  6.31   1.41"
      ]
     },
     "execution_count": 18,
     "metadata": {},
     "output_type": "execute_result"
    }
   ],
   "source": [
    "percentiles = df.groupby('species')['petal length'].quantile([0.1, 0.9]).unstack()\n",
    "percentiles['range'] = percentiles[0.9] - percentiles[0.1]\n",
    "\n",
    "print(\"10th and 90th percentiles of petal length for each class:\")\n",
    "print(percentiles)"
   ]
  },
  {
   "cell_type": "markdown",
   "id": "26d2d2dd",
   "metadata": {},
   "source": [
    "# 10 question"
   ]
  },
  {
   "cell_type": "code",
   "execution_count": 12,
   "id": "5ae65096",
   "metadata": {},
   "outputs": [
    {
     "name": "stdout",
     "output_type": "stream",
     "text": [
      "Correlation coefficient between sepal length and sepal width for each class:\n",
      "                              sepal length  sepal width\n",
      "species                                                \n",
      "Iris-setosa     sepal length      1.000000     0.746780\n",
      "                sepal width       0.746780     1.000000\n",
      "Iris-versicolor sepal length      1.000000     0.525911\n",
      "                sepal width       0.525911     1.000000\n",
      "Iris-virginica  sepal length      1.000000     0.457228\n",
      "                sepal width       0.457228     1.000000\n"
     ]
    }
   ],
   "source": [
    "correlation_by_class = df.groupby('species')[['sepal length', 'sepal width']].corr()\n",
    "\n",
    "print(\"Correlation coefficient between sepal length and sepal width for each class:\")\n",
    "print(correlation_by_class)"
   ]
  },
  {
   "cell_type": "code",
   "execution_count": null,
   "id": "5462d2e6",
   "metadata": {},
   "outputs": [],
   "source": []
  }
 ],
 "metadata": {
  "kernelspec": {
   "display_name": "Python 3 (ipykernel)",
   "language": "python",
   "name": "python3"
  },
  "language_info": {
   "codemirror_mode": {
    "name": "ipython",
    "version": 3
   },
   "file_extension": ".py",
   "mimetype": "text/x-python",
   "name": "python",
   "nbconvert_exporter": "python",
   "pygments_lexer": "ipython3",
   "version": "3.11.4"
  }
 },
 "nbformat": 4,
 "nbformat_minor": 5
}
